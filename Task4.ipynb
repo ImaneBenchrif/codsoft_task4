{
 "cells": [
  {
   "cell_type": "markdown",
   "id": "f9f2540f",
   "metadata": {},
   "source": [
    "1. Data Loading and Preview"
   ]
  },
  {
   "cell_type": "code",
   "execution_count": 42,
   "id": "993e56ad",
   "metadata": {},
   "outputs": [
    {
     "name": "stdout",
     "output_type": "stream",
     "text": [
      "   movieId                     title         genres\n",
      "0        1  The Shawshank Redemption          Drama\n",
      "1        2             The Godfather    Drama|Crime\n",
      "2        3           The Dark Knight   Action|Crime\n",
      "3        4                 Inception  Action|Sci-Fi\n",
      "4        5                The Matrix  Action|Sci-Fi\n"
     ]
    }
   ],
   "source": [
    "import pandas as pd\n",
    "\n",
    "# Load the dataset\n",
    "df = pd.read_csv('C:/Users/DELL/movies.txt')\n",
    "\n",
    "# Preview the data\n",
    "print(df.head())\n"
   ]
  },
  {
   "cell_type": "markdown",
   "id": "33eff33a",
   "metadata": {},
   "source": [
    "2. Feature Extraction with TF-IDF Vectorizer\n"
   ]
  },
  {
   "cell_type": "code",
   "execution_count": 43,
   "id": "2ae5404c",
   "metadata": {},
   "outputs": [],
   "source": [
    "from sklearn.feature_extraction.text import TfidfVectorizer\n",
    "\n",
    "# Initialize the TF-IDF Vectorizer\n",
    "tfidf = TfidfVectorizer(stop_words='english')\n",
    "\n",
    "# Fit and transform the genre data\n",
    "tfidf_matrix = tfidf.fit_transform(df['genres'])\n"
   ]
  },
  {
   "cell_type": "markdown",
   "id": "eb23e5b6",
   "metadata": {},
   "source": [
    "3. Compute Cosine Similarity\n"
   ]
  },
  {
   "cell_type": "code",
   "execution_count": 44,
   "id": "ecc018d8",
   "metadata": {},
   "outputs": [],
   "source": [
    "from sklearn.metrics.pairwise import linear_kernel\n",
    "\n",
    "# Compute cosine similarity matrix\n",
    "cosine_sim = linear_kernel(tfidf_matrix, tfidf_matrix)\n"
   ]
  },
  {
   "cell_type": "markdown",
   "id": "56430b4e",
   "metadata": {},
   "source": [
    "4. Create Index for Movie Titles\n"
   ]
  },
  {
   "cell_type": "code",
   "execution_count": 45,
   "id": "1528f9f2",
   "metadata": {},
   "outputs": [],
   "source": [
    "# Create a Series with movie titles as index\n",
    "indices = pd.Series(df.index, index=df['title']).to_dict()\n"
   ]
  },
  {
   "cell_type": "markdown",
   "id": "68b8c634",
   "metadata": {},
   "source": [
    "5. Recommendation Function\n"
   ]
  },
  {
   "cell_type": "code",
   "execution_count": 46,
   "id": "3f863a34",
   "metadata": {},
   "outputs": [],
   "source": [
    "def recommend_movie(title, cosine_sim=cosine_sim):\n",
    "    # Get the index of the movie\n",
    "    idx = indices.get(title)\n",
    "    if idx is None:\n",
    "        return \"Movie not found in database.\"\n",
    "\n",
    "    # Get pairwise similarity scores of all movies with the given movie\n",
    "    sim_scores = list(enumerate(cosine_sim[idx]))\n",
    "    \n",
    "    # Sort the movies based on similarity scores\n",
    "    sim_scores = sorted(sim_scores, key=lambda x: x[1], reverse=True)\n",
    "    \n",
    "    # Get the indices of the top 6 most similar movies\n",
    "    sim_scores = sim_scores[1:6]\n",
    "    movie_indices = [i[0] for i in sim_scores]\n",
    "    \n",
    "    # Return the top 5 most similar movies\n",
    "    return df['title'].iloc[movie_indices]\n"
   ]
  },
  {
   "cell_type": "markdown",
   "id": "cc12fe24",
   "metadata": {},
   "source": [
    "6. Example Usage\n"
   ]
  },
  {
   "cell_type": "code",
   "execution_count": 47,
   "id": "36ffe414",
   "metadata": {},
   "outputs": [
    {
     "name": "stdout",
     "output_type": "stream",
     "text": [
      "4          The Matrix\n",
      "11             Avatar\n",
      "17      Jurassic Park\n",
      "15       Interstellar\n",
      "2     The Dark Knight\n",
      "Name: title, dtype: object\n"
     ]
    }
   ],
   "source": [
    "# Example usage\n",
    "print(recommend_movie('Inception'))"
   ]
  }
 ],
 "metadata": {
  "kernelspec": {
   "display_name": "Python 3 (ipykernel)",
   "language": "python",
   "name": "python3"
  },
  "language_info": {
   "codemirror_mode": {
    "name": "ipython",
    "version": 3
   },
   "file_extension": ".py",
   "mimetype": "text/x-python",
   "name": "python",
   "nbconvert_exporter": "python",
   "pygments_lexer": "ipython3",
   "version": "3.9.7"
  }
 },
 "nbformat": 4,
 "nbformat_minor": 5
}
